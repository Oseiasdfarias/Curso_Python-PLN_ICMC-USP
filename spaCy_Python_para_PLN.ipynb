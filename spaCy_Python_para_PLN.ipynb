{
  "nbformat": 4,
  "nbformat_minor": 0,
  "metadata": {
    "colab": {
      "name": "spaCy_Python_para_PLN.ipynb",
      "provenance": [],
      "collapsed_sections": [],
      "include_colab_link": true
    },
    "kernelspec": {
      "name": "python3",
      "display_name": "Python 3"
    },
    "language_info": {
      "name": "python"
    }
  },
  "cells": [
    {
      "cell_type": "markdown",
      "metadata": {
        "id": "view-in-github",
        "colab_type": "text"
      },
      "source": [
        "<a href=\"https://colab.research.google.com/github/Oseiasdfarias/Curso_Python-PLN_ICMC-USP/blob/main/spaCy_Python_para_PLN.ipynb\" target=\"_parent\"><img src=\"https://colab.research.google.com/assets/colab-badge.svg\" alt=\"Open In Colab\"/></a>"
      ]
    },
    {
      "cell_type": "markdown",
      "metadata": {
        "id": "5Eou-fvY7awQ"
      },
      "source": [
        "# Instalação do Spacy\n",
        "\n",
        "Primeiro precisamos atualizar o spacy que já está instalado no colab.\n",
        "\n",
        "A versão que está disponível não dá suporte ao modelo de dados em portugues.\n",
        "\n",
        "https://spacy.io/usage"
      ]
    },
    {
      "cell_type": "code",
      "metadata": {
        "colab": {
          "base_uri": "https://localhost:8080/"
        },
        "id": "-BqxDKI1FVo4",
        "outputId": "92f9849f-18fc-4f9e-babe-36ac399a2437"
      },
      "source": [
        "pip install -U spacy"
      ],
      "execution_count": 10,
      "outputs": [
        {
          "output_type": "stream",
          "name": "stdout",
          "text": [
            "Requirement already satisfied: spacy in /usr/local/lib/python3.7/dist-packages (3.1.3)\n",
            "Requirement already satisfied: preshed<3.1.0,>=3.0.2 in /usr/local/lib/python3.7/dist-packages (from spacy) (3.0.5)\n",
            "Requirement already satisfied: srsly<3.0.0,>=2.4.1 in /usr/local/lib/python3.7/dist-packages (from spacy) (2.4.1)\n",
            "Requirement already satisfied: cymem<2.1.0,>=2.0.2 in /usr/local/lib/python3.7/dist-packages (from spacy) (2.0.5)\n",
            "Requirement already satisfied: pathy>=0.3.5 in /usr/local/lib/python3.7/dist-packages (from spacy) (0.6.0)\n",
            "Requirement already satisfied: setuptools in /usr/local/lib/python3.7/dist-packages (from spacy) (57.4.0)\n",
            "Requirement already satisfied: jinja2 in /usr/local/lib/python3.7/dist-packages (from spacy) (2.11.3)\n",
            "Requirement already satisfied: murmurhash<1.1.0,>=0.28.0 in /usr/local/lib/python3.7/dist-packages (from spacy) (1.0.5)\n",
            "Requirement already satisfied: requests<3.0.0,>=2.13.0 in /usr/local/lib/python3.7/dist-packages (from spacy) (2.23.0)\n",
            "Requirement already satisfied: numpy>=1.15.0 in /usr/local/lib/python3.7/dist-packages (from spacy) (1.19.5)\n",
            "Requirement already satisfied: typer<0.5.0,>=0.3.0 in /usr/local/lib/python3.7/dist-packages (from spacy) (0.4.0)\n",
            "Requirement already satisfied: catalogue<2.1.0,>=2.0.6 in /usr/local/lib/python3.7/dist-packages (from spacy) (2.0.6)\n",
            "Requirement already satisfied: spacy-legacy<3.1.0,>=3.0.8 in /usr/local/lib/python3.7/dist-packages (from spacy) (3.0.8)\n",
            "Requirement already satisfied: typing-extensions<4.0.0.0,>=3.7.4 in /usr/local/lib/python3.7/dist-packages (from spacy) (3.7.4.3)\n",
            "Requirement already satisfied: tqdm<5.0.0,>=4.38.0 in /usr/local/lib/python3.7/dist-packages (from spacy) (4.62.3)\n",
            "Requirement already satisfied: packaging>=20.0 in /usr/local/lib/python3.7/dist-packages (from spacy) (21.0)\n",
            "Requirement already satisfied: wasabi<1.1.0,>=0.8.1 in /usr/local/lib/python3.7/dist-packages (from spacy) (0.8.2)\n",
            "Requirement already satisfied: thinc<8.1.0,>=8.0.9 in /usr/local/lib/python3.7/dist-packages (from spacy) (8.0.10)\n",
            "Requirement already satisfied: blis<0.8.0,>=0.4.0 in /usr/local/lib/python3.7/dist-packages (from spacy) (0.4.1)\n",
            "Requirement already satisfied: pydantic!=1.8,!=1.8.1,<1.9.0,>=1.7.4 in /usr/local/lib/python3.7/dist-packages (from spacy) (1.8.2)\n",
            "Requirement already satisfied: zipp>=0.5 in /usr/local/lib/python3.7/dist-packages (from catalogue<2.1.0,>=2.0.6->spacy) (3.6.0)\n",
            "Requirement already satisfied: pyparsing>=2.0.2 in /usr/local/lib/python3.7/dist-packages (from packaging>=20.0->spacy) (2.4.7)\n",
            "Requirement already satisfied: smart-open<6.0.0,>=5.0.0 in /usr/local/lib/python3.7/dist-packages (from pathy>=0.3.5->spacy) (5.2.1)\n",
            "Requirement already satisfied: certifi>=2017.4.17 in /usr/local/lib/python3.7/dist-packages (from requests<3.0.0,>=2.13.0->spacy) (2021.5.30)\n",
            "Requirement already satisfied: urllib3!=1.25.0,!=1.25.1,<1.26,>=1.21.1 in /usr/local/lib/python3.7/dist-packages (from requests<3.0.0,>=2.13.0->spacy) (1.24.3)\n",
            "Requirement already satisfied: idna<3,>=2.5 in /usr/local/lib/python3.7/dist-packages (from requests<3.0.0,>=2.13.0->spacy) (2.10)\n",
            "Requirement already satisfied: chardet<4,>=3.0.2 in /usr/local/lib/python3.7/dist-packages (from requests<3.0.0,>=2.13.0->spacy) (3.0.4)\n",
            "Requirement already satisfied: click<9.0.0,>=7.1.1 in /usr/local/lib/python3.7/dist-packages (from typer<0.5.0,>=0.3.0->spacy) (7.1.2)\n",
            "Requirement already satisfied: MarkupSafe>=0.23 in /usr/local/lib/python3.7/dist-packages (from jinja2->spacy) (2.0.1)\n"
          ]
        }
      ]
    },
    {
      "cell_type": "markdown",
      "metadata": {
        "id": "RpafPx4v7qP2"
      },
      "source": [
        "**Depois de instalar precisamos baixar os pacotes complementares**"
      ]
    },
    {
      "cell_type": "code",
      "metadata": {
        "colab": {
          "base_uri": "https://localhost:8080/"
        },
        "id": "zS1JfXlBF42u",
        "outputId": "4126adde-e9ff-413f-848e-aa9c44a54542"
      },
      "source": [
        "pip install -U spacy-lookups-data"
      ],
      "execution_count": 11,
      "outputs": [
        {
          "output_type": "stream",
          "name": "stdout",
          "text": [
            "Requirement already satisfied: spacy-lookups-data in /usr/local/lib/python3.7/dist-packages (1.0.3)\n",
            "Requirement already satisfied: setuptools in /usr/local/lib/python3.7/dist-packages (from spacy-lookups-data) (57.4.0)\n"
          ]
        }
      ]
    },
    {
      "cell_type": "markdown",
      "metadata": {
        "id": "MmiMoEVv7wMO"
      },
      "source": [
        "**E finalmente instalamos o modelo de língua disponibilizado pelo spaCy**"
      ]
    },
    {
      "cell_type": "code",
      "metadata": {
        "colab": {
          "base_uri": "https://localhost:8080/"
        },
        "id": "6duQFrspGHvZ",
        "outputId": "f1ce0b71-60df-4a56-e275-da38aa399573"
      },
      "source": [
        "!python -m spacy download pt_core_news_lg\n",
        "#!python -m spacy download pt_core_news_md\n",
        "#!python -m spacy download pt_core_news_sm"
      ],
      "execution_count": 12,
      "outputs": [
        {
          "output_type": "stream",
          "name": "stdout",
          "text": [
            "Collecting pt-core-news-lg==3.1.0\n",
            "  Downloading https://github.com/explosion/spacy-models/releases/download/pt_core_news_lg-3.1.0/pt_core_news_lg-3.1.0-py3-none-any.whl (576.7 MB)\n",
            "\u001b[K     |████████████████████████████████| 576.7 MB 15 kB/s \n",
            "\u001b[?25hRequirement already satisfied: spacy<3.2.0,>=3.1.0 in /usr/local/lib/python3.7/dist-packages (from pt-core-news-lg==3.1.0) (3.1.3)\n",
            "Requirement already satisfied: numpy>=1.15.0 in /usr/local/lib/python3.7/dist-packages (from spacy<3.2.0,>=3.1.0->pt-core-news-lg==3.1.0) (1.19.5)\n",
            "Requirement already satisfied: setuptools in /usr/local/lib/python3.7/dist-packages (from spacy<3.2.0,>=3.1.0->pt-core-news-lg==3.1.0) (57.4.0)\n",
            "Requirement already satisfied: thinc<8.1.0,>=8.0.9 in /usr/local/lib/python3.7/dist-packages (from spacy<3.2.0,>=3.1.0->pt-core-news-lg==3.1.0) (8.0.10)\n",
            "Requirement already satisfied: blis<0.8.0,>=0.4.0 in /usr/local/lib/python3.7/dist-packages (from spacy<3.2.0,>=3.1.0->pt-core-news-lg==3.1.0) (0.4.1)\n",
            "Requirement already satisfied: wasabi<1.1.0,>=0.8.1 in /usr/local/lib/python3.7/dist-packages (from spacy<3.2.0,>=3.1.0->pt-core-news-lg==3.1.0) (0.8.2)\n",
            "Requirement already satisfied: pathy>=0.3.5 in /usr/local/lib/python3.7/dist-packages (from spacy<3.2.0,>=3.1.0->pt-core-news-lg==3.1.0) (0.6.0)\n",
            "Requirement already satisfied: tqdm<5.0.0,>=4.38.0 in /usr/local/lib/python3.7/dist-packages (from spacy<3.2.0,>=3.1.0->pt-core-news-lg==3.1.0) (4.62.3)\n",
            "Requirement already satisfied: packaging>=20.0 in /usr/local/lib/python3.7/dist-packages (from spacy<3.2.0,>=3.1.0->pt-core-news-lg==3.1.0) (21.0)\n",
            "Requirement already satisfied: spacy-legacy<3.1.0,>=3.0.8 in /usr/local/lib/python3.7/dist-packages (from spacy<3.2.0,>=3.1.0->pt-core-news-lg==3.1.0) (3.0.8)\n",
            "Requirement already satisfied: cymem<2.1.0,>=2.0.2 in /usr/local/lib/python3.7/dist-packages (from spacy<3.2.0,>=3.1.0->pt-core-news-lg==3.1.0) (2.0.5)\n",
            "Requirement already satisfied: srsly<3.0.0,>=2.4.1 in /usr/local/lib/python3.7/dist-packages (from spacy<3.2.0,>=3.1.0->pt-core-news-lg==3.1.0) (2.4.1)\n",
            "Requirement already satisfied: preshed<3.1.0,>=3.0.2 in /usr/local/lib/python3.7/dist-packages (from spacy<3.2.0,>=3.1.0->pt-core-news-lg==3.1.0) (3.0.5)\n",
            "Requirement already satisfied: catalogue<2.1.0,>=2.0.6 in /usr/local/lib/python3.7/dist-packages (from spacy<3.2.0,>=3.1.0->pt-core-news-lg==3.1.0) (2.0.6)\n",
            "Requirement already satisfied: typing-extensions<4.0.0.0,>=3.7.4 in /usr/local/lib/python3.7/dist-packages (from spacy<3.2.0,>=3.1.0->pt-core-news-lg==3.1.0) (3.7.4.3)\n",
            "Requirement already satisfied: pydantic!=1.8,!=1.8.1,<1.9.0,>=1.7.4 in /usr/local/lib/python3.7/dist-packages (from spacy<3.2.0,>=3.1.0->pt-core-news-lg==3.1.0) (1.8.2)\n",
            "Requirement already satisfied: typer<0.5.0,>=0.3.0 in /usr/local/lib/python3.7/dist-packages (from spacy<3.2.0,>=3.1.0->pt-core-news-lg==3.1.0) (0.4.0)\n",
            "Requirement already satisfied: jinja2 in /usr/local/lib/python3.7/dist-packages (from spacy<3.2.0,>=3.1.0->pt-core-news-lg==3.1.0) (2.11.3)\n",
            "Requirement already satisfied: murmurhash<1.1.0,>=0.28.0 in /usr/local/lib/python3.7/dist-packages (from spacy<3.2.0,>=3.1.0->pt-core-news-lg==3.1.0) (1.0.5)\n",
            "Requirement already satisfied: requests<3.0.0,>=2.13.0 in /usr/local/lib/python3.7/dist-packages (from spacy<3.2.0,>=3.1.0->pt-core-news-lg==3.1.0) (2.23.0)\n",
            "Requirement already satisfied: zipp>=0.5 in /usr/local/lib/python3.7/dist-packages (from catalogue<2.1.0,>=2.0.6->spacy<3.2.0,>=3.1.0->pt-core-news-lg==3.1.0) (3.6.0)\n",
            "Requirement already satisfied: pyparsing>=2.0.2 in /usr/local/lib/python3.7/dist-packages (from packaging>=20.0->spacy<3.2.0,>=3.1.0->pt-core-news-lg==3.1.0) (2.4.7)\n",
            "Requirement already satisfied: smart-open<6.0.0,>=5.0.0 in /usr/local/lib/python3.7/dist-packages (from pathy>=0.3.5->spacy<3.2.0,>=3.1.0->pt-core-news-lg==3.1.0) (5.2.1)\n",
            "Requirement already satisfied: certifi>=2017.4.17 in /usr/local/lib/python3.7/dist-packages (from requests<3.0.0,>=2.13.0->spacy<3.2.0,>=3.1.0->pt-core-news-lg==3.1.0) (2021.5.30)\n",
            "Requirement already satisfied: idna<3,>=2.5 in /usr/local/lib/python3.7/dist-packages (from requests<3.0.0,>=2.13.0->spacy<3.2.0,>=3.1.0->pt-core-news-lg==3.1.0) (2.10)\n",
            "Requirement already satisfied: chardet<4,>=3.0.2 in /usr/local/lib/python3.7/dist-packages (from requests<3.0.0,>=2.13.0->spacy<3.2.0,>=3.1.0->pt-core-news-lg==3.1.0) (3.0.4)\n",
            "Requirement already satisfied: urllib3!=1.25.0,!=1.25.1,<1.26,>=1.21.1 in /usr/local/lib/python3.7/dist-packages (from requests<3.0.0,>=2.13.0->spacy<3.2.0,>=3.1.0->pt-core-news-lg==3.1.0) (1.24.3)\n",
            "Requirement already satisfied: click<9.0.0,>=7.1.1 in /usr/local/lib/python3.7/dist-packages (from typer<0.5.0,>=0.3.0->spacy<3.2.0,>=3.1.0->pt-core-news-lg==3.1.0) (7.1.2)\n",
            "Requirement already satisfied: MarkupSafe>=0.23 in /usr/local/lib/python3.7/dist-packages (from jinja2->spacy<3.2.0,>=3.1.0->pt-core-news-lg==3.1.0) (2.0.1)\n",
            "\u001b[38;5;2m✔ Download and installation successful\u001b[0m\n",
            "You can now load the package via spacy.load('pt_core_news_lg')\n"
          ]
        }
      ]
    },
    {
      "cell_type": "markdown",
      "metadata": {
        "id": "9W9NiF0g742N"
      },
      "source": [
        "**Agora, o uso efetivo da biblioteca**"
      ]
    },
    {
      "cell_type": "code",
      "metadata": {
        "id": "Y3BsZEUkI3E_"
      },
      "source": [
        "import spacy\n",
        "\n",
        "# Um texto de exemplo\n",
        "texto = \"Para políticos e infectologistas, a opção de Michelle de se 10 vacinar nos EUA, não no Brasil, 2021 é um absurdo e um desprezo ao SUS (Sistema Único de Saúde) e ao PNI (Programa Nacional de Imunizações).\"\n",
        "\n",
        "# Carregamos o modelo de língua que baixamos\n",
        "nlp = spacy.load(\"pt_core_news_lg\")\n",
        "\n",
        "# Usamos o modelo para analisar o nosso texto :)\n",
        "doc = nlp(texto)"
      ],
      "execution_count": 13,
      "outputs": []
    },
    {
      "cell_type": "markdown",
      "metadata": {
        "id": "syWfeowp8KOG"
      },
      "source": [
        "**Usando a variável \"doc\" podemos acessar os tokens e as diversas análises feitas pelo spaCy**"
      ]
    },
    {
      "cell_type": "code",
      "metadata": {
        "colab": {
          "base_uri": "https://localhost:8080/"
        },
        "id": "j4dPg3ygJb1U",
        "outputId": "a267853f-2887-48b6-895a-591826a8a609"
      },
      "source": [
        "# geração da lista de tokens (tokenização)\n",
        "\n",
        "# Observe que essa estrutura pode ser convertida para a seguinte:\n",
        "# tokens = []\n",
        "# for token in tokens:\n",
        "#   tokens.append(token)\n",
        "\n",
        "tokens = [token for token in doc]\n",
        "tokens"
      ],
      "execution_count": 14,
      "outputs": [
        {
          "output_type": "execute_result",
          "data": {
            "text/plain": [
              "[Para,\n",
              " políticos,\n",
              " e,\n",
              " infectologistas,\n",
              " ,,\n",
              " a,\n",
              " opção,\n",
              " de,\n",
              " Michelle,\n",
              " de,\n",
              " se,\n",
              " 10,\n",
              " vacinar,\n",
              " nos,\n",
              " EUA,\n",
              " ,,\n",
              " não,\n",
              " no,\n",
              " Brasil,\n",
              " ,,\n",
              " 2021,\n",
              " é,\n",
              " um,\n",
              " absurdo,\n",
              " e,\n",
              " um,\n",
              " desprezo,\n",
              " ao,\n",
              " SUS,\n",
              " (,\n",
              " Sistema,\n",
              " Único,\n",
              " de,\n",
              " Saúde,\n",
              " ),\n",
              " e,\n",
              " ao,\n",
              " PNI,\n",
              " (,\n",
              " Programa,\n",
              " Nacional,\n",
              " de,\n",
              " Imunizações,\n",
              " ),\n",
              " .]"
            ]
          },
          "metadata": {},
          "execution_count": 14
        }
      ]
    },
    {
      "cell_type": "markdown",
      "metadata": {
        "id": "bw_4X5aS8jXm"
      },
      "source": [
        "**Salvando na lista o texto dos tokens:** ***.orth_***"
      ]
    },
    {
      "cell_type": "code",
      "metadata": {
        "colab": {
          "base_uri": "https://localhost:8080/"
        },
        "id": "obXc62cgK0IW",
        "outputId": "de2e0e8d-976b-4543-b3d8-55d1fe4c8b09"
      },
      "source": [
        "tokens = [token.orth_ for token in doc]\n",
        "tokens"
      ],
      "execution_count": 15,
      "outputs": [
        {
          "output_type": "execute_result",
          "data": {
            "text/plain": [
              "['Para',\n",
              " 'políticos',\n",
              " 'e',\n",
              " 'infectologistas',\n",
              " ',',\n",
              " 'a',\n",
              " 'opção',\n",
              " 'de',\n",
              " 'Michelle',\n",
              " 'de',\n",
              " 'se',\n",
              " '10',\n",
              " 'vacinar',\n",
              " 'nos',\n",
              " 'EUA',\n",
              " ',',\n",
              " 'não',\n",
              " 'no',\n",
              " 'Brasil',\n",
              " ',',\n",
              " '2021',\n",
              " 'é',\n",
              " 'um',\n",
              " 'absurdo',\n",
              " 'e',\n",
              " 'um',\n",
              " 'desprezo',\n",
              " 'ao',\n",
              " 'SUS',\n",
              " '(',\n",
              " 'Sistema',\n",
              " 'Único',\n",
              " 'de',\n",
              " 'Saúde',\n",
              " ')',\n",
              " 'e',\n",
              " 'ao',\n",
              " 'PNI',\n",
              " '(',\n",
              " 'Programa',\n",
              " 'Nacional',\n",
              " 'de',\n",
              " 'Imunizações',\n",
              " ')',\n",
              " '.']"
            ]
          },
          "metadata": {},
          "execution_count": 15
        }
      ]
    },
    {
      "cell_type": "markdown",
      "metadata": {
        "id": "KS_T4hTJ89VW"
      },
      "source": [
        "**Demais atributos**\n",
        "\n",
        "\n",
        "*   .is_apha\n",
        "*   .is_digit\n",
        "*   .is_punct\n",
        "\n",
        "https://spacy.io/api/token#attributes\n",
        "\n"
      ]
    },
    {
      "cell_type": "code",
      "metadata": {
        "colab": {
          "base_uri": "https://localhost:8080/"
        },
        "id": "-tOljq2VLUzW",
        "outputId": "1b5b9767-c081-4b96-d543-dcef8e4ef082"
      },
      "source": [
        "alpha_tokens = [token.orth_ for token in doc if token.is_alpha]\n",
        "print(\"Alpha Tokens: %s \" % (alpha_tokens))\n",
        "\n",
        "digit_tokens = [token.orth_ for token in doc if token.is_digit]\n",
        "print(\"Digit Tokens: %s \" % (digit_tokens))\n",
        "\n",
        "punct_tokens = [token.orth_ for token in doc if token.is_punct]\n",
        "print(\"Punct Tokens: %s \" % (punct_tokens))"
      ],
      "execution_count": 16,
      "outputs": [
        {
          "output_type": "stream",
          "name": "stdout",
          "text": [
            "Alpha Tokens: ['Para', 'políticos', 'e', 'infectologistas', 'a', 'opção', 'de', 'Michelle', 'de', 'se', 'vacinar', 'nos', 'EUA', 'não', 'no', 'Brasil', 'é', 'um', 'absurdo', 'e', 'um', 'desprezo', 'ao', 'SUS', 'Sistema', 'Único', 'de', 'Saúde', 'e', 'ao', 'PNI', 'Programa', 'Nacional', 'de', 'Imunizações'] \n",
            "Digit Tokens: ['10', '2021'] \n",
            "Punct Tokens: [',', ',', ',', '(', ')', '(', ')', '.'] \n"
          ]
        }
      ]
    },
    {
      "cell_type": "markdown",
      "metadata": {
        "id": "FkaK9ex59dg-"
      },
      "source": [
        "**Vamos trabalhar com nosso corpus de teste :)**"
      ]
    },
    {
      "cell_type": "code",
      "metadata": {
        "colab": {
          "base_uri": "https://localhost:8080/",
          "height": 143
        },
        "id": "0Xs4veraNq5h",
        "outputId": "939fbb1e-88c5-4ccc-921e-9d3a4fadeb38"
      },
      "source": [
        "corpus = \"\"\" Giants batem os Patriots no Super Bowl XLII\n",
        "Azarões acabam com a invencibilidade de New England e ficam com o título da temporada\n",
        "04/02/2008 - 01h07m - Atualizado em 04/02/2008 - 09h49m\n",
        "\n",
        "Com um passe de Eli Manning para Plaxico Burress a 39 segundos do fim, o New York Giants anotou o touchdown decisivo e derrubou o favorito New England Patriots por 17 a 14 neste domingo, em Glendale, no Super Bowl XLII. O resultado, uma das maiores zebras da história do Super Bowl, acabou com a temporada perfeita de Tom Brady e companhia, que esperavam fazer história ao levantar o troféu da NFL sem sofrer uma derrota no ano. \n",
        "\n",
        "A vitória dos Giants, porém, também ficará para a história. Pela primeira vez, irmãos quarterbacks triunfam no Super Bowl em temporadas consecutivas. No ano passado, Peyton Manning, irmão de Eli, chegou ao título máximo da NFL pelo Indianapolis Colts.\n",
        "\n",
        "A partida\n",
        "\n",
        "Os Giants começaram com a posse de bola, e mostraram logo que iriam alongar ao máximo suas posses de bola. Misturando corridas com Brandon Jacobs e passes curtos, o time de Nova York chegou à red zone logo na primeira campanha. O avanço, no entanto, parou na linha de 17 jardas e Lawrence Tynes converteu o field goal de 32 jardas para abrir o placar.\n",
        "\n",
        "Eli Manning e companhia ficaram 9m54s com a bola, mas o ataque dos Patriots não entrou em campo frio. Logo no retorno do kickoff, o running back Laurence Maroney avançou 43 jardas, deixando Tom Brady em boa posição. Com passes curtos, os Patriots chegaram à linha de 17 jardas e, graças a uma penalidade (interferência de passe) do linebacker Antonio Pierce, alcançaram a linha de uma jarda. Maroney avançou pelo chão e anotou o primeiro touchdown do jogo.\n",
        "\n",
        "Os Giants pareciam rumo à virada na campanha seguinte. Manning achou Amani Toomer para um avanço de 38 jardas, e o time de Nova York entrou novamente na red zone. Com a bola na linha de 14 jardas dos Patriots, os Giants sofreram um revés. Manning passou para Steve Smith, que soltou a bola. Ellis Hobbs aproveitou, tomou a posse para os Patriots, e avançou 23 jardas. \n",
        "\n",
        "A defesa de Nova York manteve o jogo equilibrado. Com dois sacks seguidos, os Giants forçaram o punt e recuperaram a bola. Mas a campanha seguinte provou ser outra decepção para Nova York. O time chegou à linha de 25 jardas, mas Manning sofreu um sack e cometeu um fumble, e o ataque voltou para a linha de 39 jardas, não conseguindo pontuar mais uma vez.\n",
        "\n",
        "Os Patriots tiveram uma última chance de marcar antes do intervalo, mas, a 22 segundos do fim do segundo período, Brady foi novamente sacado. Desta vez, ele cometeu o fumble e os Giants tomaram a posse de bola. Manning tentou um passe longo, de 50 jardas, nos últimos segundos, mas não teve sucesso. \n",
        "\n",
        "O jogo continuou amarrado no terceiro quarto, com as defesas levando a melhor sobre os ataques. A única chance de pontuar do período foi dos Patriots, que chegaram à linha de 31 jardas dos Giants. O técnico Bill Bellichick, porém, optou por uma quarta descida em vez de um field goal. Brady tentou um passe para Jabar Gaffney, mas não conseguiu completar.\n",
        "\n",
        "O último período começou arrasador para os Giants. na primeira jogada, Manning achou o tight end Kevin Boss, para um incrível avanço de 45 jardas, que deixou o time na linha de 35 dos Patriots. Outro lançamento, desta vez para Steve Smith, marcou o avanço até a linha de 12 jardas. Duas jogadas depois, David Tyree pegou um passe de cinco jardas na end zone para anotar o touchdown e virar o jogo.\n",
        "\n",
        "Na hora da decisão, o ataque dos Patriots voltou a funcionar. Com uma série de passes curtos e variados, Brady achou Wes Welker, Randy Moss e Kevin Faulk seguidas vezes até chegar à red zone. A 2m45s do fim, o quarterback conectou mais uma vez com Moss, que se desmarcou e ficou livre na lateral direita da end zone.\n",
        "\n",
        "Quando os fãs de New England já comemoravam a vitória, o inesperado aconteceu. Em uma jogada incrível, Eli Manning se soltou de dois marcadores que o seguravam pela camisa e, na corrida, lançou para Amani Toomer. O wide receiver, bem marcado, saltou e conseguiu a fazer recepção para um avanço de 32 jardas, deixando os Giants na linha de 24 de New England.\n",
        "\n",
        "Quatro jogadas depois, a 39 segundos do fim, Manning achou Plaxico Burress na end zone para conseguir o touchdown do título.\"\"\"\n",
        "corpus"
      ],
      "execution_count": 17,
      "outputs": [
        {
          "output_type": "execute_result",
          "data": {
            "application/vnd.google.colaboratory.intrinsic+json": {
              "type": "string"
            },
            "text/plain": [
              "' Giants batem os Patriots no Super Bowl XLII\\nAzarões acabam com a invencibilidade de New England e ficam com o título da temporada\\n04/02/2008 - 01h07m - Atualizado em 04/02/2008 - 09h49m\\n\\nCom um passe de Eli Manning para Plaxico Burress a 39 segundos do fim, o New York Giants anotou o touchdown decisivo e derrubou o favorito New England Patriots por 17 a 14 neste domingo, em Glendale, no Super Bowl XLII. O resultado, uma das maiores zebras da história do Super Bowl, acabou com a temporada perfeita de Tom Brady e companhia, que esperavam fazer história ao levantar o troféu da NFL sem sofrer uma derrota no ano. \\n\\nA vitória dos Giants, porém, também ficará para a história. Pela primeira vez, irmãos quarterbacks triunfam no Super Bowl em temporadas consecutivas. No ano passado, Peyton Manning, irmão de Eli, chegou ao título máximo da NFL pelo Indianapolis Colts.\\n\\nA partida\\n\\nOs Giants começaram com a posse de bola, e mostraram logo que iriam alongar ao máximo suas posses de bola. Misturando corridas com Brandon Jacobs e passes curtos, o time de Nova York chegou à red zone logo na primeira campanha. O avanço, no entanto, parou na linha de 17 jardas e Lawrence Tynes converteu o field goal de 32 jardas para abrir o placar.\\n\\nEli Manning e companhia ficaram 9m54s com a bola, mas o ataque dos Patriots não entrou em campo frio. Logo no retorno do kickoff, o running back Laurence Maroney avançou 43 jardas, deixando Tom Brady em boa posição. Com passes curtos, os Patriots chegaram à linha de 17 jardas e, graças a uma penalidade (interferência de passe) do linebacker Antonio Pierce, alcançaram a linha de uma jarda. Maroney avançou pelo chão e anotou o primeiro touchdown do jogo.\\n\\nOs Giants pareciam rumo à virada na campanha seguinte. Manning achou Amani Toomer para um avanço de 38 jardas, e o time de Nova York entrou novamente na red zone. Com a bola na linha de 14 jardas dos Patriots, os Giants sofreram um revés. Manning passou para Steve Smith, que soltou a bola. Ellis Hobbs aproveitou, tomou a posse para os Patriots, e avançou 23 jardas. \\n\\nA defesa de Nova York manteve o jogo equilibrado. Com dois sacks seguidos, os Giants forçaram o punt e recuperaram a bola. Mas a campanha seguinte provou ser outra decepção para Nova York. O time chegou à linha de 25 jardas, mas Manning sofreu um sack e cometeu um fumble, e o ataque voltou para a linha de 39 jardas, não conseguindo pontuar mais uma vez.\\n\\nOs Patriots tiveram uma última chance de marcar antes do intervalo, mas, a 22 segundos do fim do segundo período, Brady foi novamente sacado. Desta vez, ele cometeu o fumble e os Giants tomaram a posse de bola. Manning tentou um passe longo, de 50 jardas, nos últimos segundos, mas não teve sucesso. \\n\\nO jogo continuou amarrado no terceiro quarto, com as defesas levando a melhor sobre os ataques. A única chance de pontuar do período foi dos Patriots, que chegaram à linha de 31 jardas dos Giants. O técnico Bill Bellichick, porém, optou por uma quarta descida em vez de um field goal. Brady tentou um passe para Jabar Gaffney, mas não conseguiu completar.\\n\\nO último período começou arrasador para os Giants. na primeira jogada, Manning achou o tight end Kevin Boss, para um incrível avanço de 45 jardas, que deixou o time na linha de 35 dos Patriots. Outro lançamento, desta vez para Steve Smith, marcou o avanço até a linha de 12 jardas. Duas jogadas depois, David Tyree pegou um passe de cinco jardas na end zone para anotar o touchdown e virar o jogo.\\n\\nNa hora da decisão, o ataque dos Patriots voltou a funcionar. Com uma série de passes curtos e variados, Brady achou Wes Welker, Randy Moss e Kevin Faulk seguidas vezes até chegar à red zone. A 2m45s do fim, o quarterback conectou mais uma vez com Moss, que se desmarcou e ficou livre na lateral direita da end zone.\\n\\nQuando os fãs de New England já comemoravam a vitória, o inesperado aconteceu. Em uma jogada incrível, Eli Manning se soltou de dois marcadores que o seguravam pela camisa e, na corrida, lançou para Amani Toomer. O wide receiver, bem marcado, saltou e conseguiu a fazer recepção para um avanço de 32 jardas, deixando os Giants na linha de 24 de New England.\\n\\nQuatro jogadas depois, a 39 segundos do fim, Manning achou Plaxico Burress na end zone para conseguir o touchdown do título.'"
            ]
          },
          "metadata": {},
          "execution_count": 17
        }
      ]
    },
    {
      "cell_type": "code",
      "metadata": {
        "id": "RUXE-cGMOBqf"
      },
      "source": [
        "import spacy\n",
        "\n",
        "nlp = spacy.load(\"pt_core_news_lg\")\n",
        "doc = nlp(corpus)\n",
        "\n",
        "tokens = [token.orth_ for token in doc]\n",
        "tokens"
      ],
      "execution_count": null,
      "outputs": []
    },
    {
      "cell_type": "code",
      "metadata": {
        "colab": {
          "base_uri": "https://localhost:8080/"
        },
        "id": "m_cHef15OYBM",
        "outputId": "c4e5095e-962e-4947-9802-63db0e2a5889"
      },
      "source": [
        "alpha_tokens = [token.orth_ for token in doc if token.is_alpha]\n",
        "print(\"Alpha Tokens: %s \" % (alpha_tokens))\n",
        "\n",
        "digit_tokens = [token.orth_ for token in doc if token.is_digit]\n",
        "print(\"Digit Tokens: %s \" % (digit_tokens))\n",
        "\n",
        "punct_tokens = [token.orth_ for token in doc if token.is_punct]\n",
        "print(\"Punct Tokens: %s \" % (punct_tokens))"
      ],
      "execution_count": 19,
      "outputs": [
        {
          "output_type": "stream",
          "name": "stdout",
          "text": [
            "Alpha Tokens: ['Giants', 'batem', 'os', 'Patriots', 'no', 'Super', 'Bowl', 'XLII', 'Azarões', 'acabam', 'com', 'a', 'invencibilidade', 'de', 'New', 'England', 'e', 'ficam', 'com', 'o', 'título', 'da', 'temporada', 'm', 'Atualizado', 'em', 'm', 'Com', 'um', 'passe', 'de', 'Eli', 'Manning', 'para', 'Plaxico', 'Burress', 'a', 'segundos', 'do', 'fim', 'o', 'New', 'York', 'Giants', 'anotou', 'o', 'touchdown', 'decisivo', 'e', 'derrubou', 'o', 'favorito', 'New', 'England', 'Patriots', 'por', 'a', 'neste', 'domingo', 'em', 'Glendale', 'no', 'Super', 'Bowl', 'XLII', 'O', 'resultado', 'uma', 'das', 'maiores', 'zebras', 'da', 'história', 'do', 'Super', 'Bowl', 'acabou', 'com', 'a', 'temporada', 'perfeita', 'de', 'Tom', 'Brady', 'e', 'companhia', 'que', 'esperavam', 'fazer', 'história', 'ao', 'levantar', 'o', 'troféu', 'da', 'NFL', 'sem', 'sofrer', 'uma', 'derrota', 'no', 'ano', 'A', 'vitória', 'dos', 'Giants', 'porém', 'também', 'ficará', 'para', 'a', 'história', 'Pela', 'primeira', 'vez', 'irmãos', 'quarterbacks', 'triunfam', 'no', 'Super', 'Bowl', 'em', 'temporadas', 'consecutivas', 'No', 'ano', 'passado', 'Peyton', 'Manning', 'irmão', 'de', 'Eli', 'chegou', 'ao', 'título', 'máximo', 'da', 'NFL', 'pelo', 'Indianapolis', 'Colts', 'A', 'partida', 'Os', 'Giants', 'começaram', 'com', 'a', 'posse', 'de', 'bola', 'e', 'mostraram', 'logo', 'que', 'iriam', 'alongar', 'ao', 'máximo', 'suas', 'posses', 'de', 'bola', 'Misturando', 'corridas', 'com', 'Brandon', 'Jacobs', 'e', 'passes', 'curtos', 'o', 'time', 'de', 'Nova', 'York', 'chegou', 'à', 'red', 'zone', 'logo', 'na', 'primeira', 'campanha', 'O', 'avanço', 'no', 'entanto', 'parou', 'na', 'linha', 'de', 'jardas', 'e', 'Lawrence', 'Tynes', 'converteu', 'o', 'field', 'goal', 'de', 'jardas', 'para', 'abrir', 'o', 'placar', 'Eli', 'Manning', 'e', 'companhia', 'ficaram', 'com', 'a', 'bola', 'mas', 'o', 'ataque', 'dos', 'Patriots', 'não', 'entrou', 'em', 'campo', 'frio', 'Logo', 'no', 'retorno', 'do', 'kickoff', 'o', 'running', 'back', 'Laurence', 'Maroney', 'avançou', 'jardas', 'deixando', 'Tom', 'Brady', 'em', 'boa', 'posição', 'Com', 'passes', 'curtos', 'os', 'Patriots', 'chegaram', 'à', 'linha', 'de', 'jardas', 'e', 'graças', 'a', 'uma', 'penalidade', 'interferência', 'de', 'passe', 'do', 'linebacker', 'Antonio', 'Pierce', 'alcançaram', 'a', 'linha', 'de', 'uma', 'jarda', 'Maroney', 'avançou', 'pelo', 'chão', 'e', 'anotou', 'o', 'primeiro', 'touchdown', 'do', 'jogo', 'Os', 'Giants', 'pareciam', 'rumo', 'à', 'virada', 'na', 'campanha', 'seguinte', 'Manning', 'achou', 'Amani', 'Toomer', 'para', 'um', 'avanço', 'de', 'jardas', 'e', 'o', 'time', 'de', 'Nova', 'York', 'entrou', 'novamente', 'na', 'red', 'zone', 'Com', 'a', 'bola', 'na', 'linha', 'de', 'jardas', 'dos', 'Patriots', 'os', 'Giants', 'sofreram', 'um', 'revés', 'Manning', 'passou', 'para', 'Steve', 'Smith', 'que', 'soltou', 'a', 'bola', 'Ellis', 'Hobbs', 'aproveitou', 'tomou', 'a', 'posse', 'para', 'os', 'Patriots', 'e', 'avançou', 'jardas', 'A', 'defesa', 'de', 'Nova', 'York', 'manteve', 'o', 'jogo', 'equilibrado', 'Com', 'dois', 'sacks', 'seguidos', 'os', 'Giants', 'forçaram', 'o', 'punt', 'e', 'recuperaram', 'a', 'bola', 'Mas', 'a', 'campanha', 'seguinte', 'provou', 'ser', 'outra', 'decepção', 'para', 'Nova', 'York', 'O', 'time', 'chegou', 'à', 'linha', 'de', 'jardas', 'mas', 'Manning', 'sofreu', 'um', 'sack', 'e', 'cometeu', 'um', 'fumble', 'e', 'o', 'ataque', 'voltou', 'para', 'a', 'linha', 'de', 'jardas', 'não', 'conseguindo', 'pontuar', 'mais', 'uma', 'vez', 'Os', 'Patriots', 'tiveram', 'uma', 'última', 'chance', 'de', 'marcar', 'antes', 'do', 'intervalo', 'mas', 'a', 'segundos', 'do', 'fim', 'do', 'segundo', 'período', 'Brady', 'foi', 'novamente', 'sacado', 'Desta', 'vez', 'ele', 'cometeu', 'o', 'fumble', 'e', 'os', 'Giants', 'tomaram', 'a', 'posse', 'de', 'bola', 'Manning', 'tentou', 'um', 'passe', 'longo', 'de', 'jardas', 'nos', 'últimos', 'segundos', 'mas', 'não', 'teve', 'sucesso', 'O', 'jogo', 'continuou', 'amarrado', 'no', 'terceiro', 'quarto', 'com', 'as', 'defesas', 'levando', 'a', 'melhor', 'sobre', 'os', 'ataques', 'A', 'única', 'chance', 'de', 'pontuar', 'do', 'período', 'foi', 'dos', 'Patriots', 'que', 'chegaram', 'à', 'linha', 'de', 'jardas', 'dos', 'Giants', 'O', 'técnico', 'Bill', 'Bellichick', 'porém', 'optou', 'por', 'uma', 'quarta', 'descida', 'em', 'vez', 'de', 'um', 'field', 'goal', 'Brady', 'tentou', 'um', 'passe', 'para', 'Jabar', 'Gaffney', 'mas', 'não', 'conseguiu', 'completar', 'O', 'último', 'período', 'começou', 'arrasador', 'para', 'os', 'Giants', 'na', 'primeira', 'jogada', 'Manning', 'achou', 'o', 'tight', 'end', 'Kevin', 'Boss', 'para', 'um', 'incrível', 'avanço', 'de', 'jardas', 'que', 'deixou', 'o', 'time', 'na', 'linha', 'de', 'dos', 'Patriots', 'Outro', 'lançamento', 'desta', 'vez', 'para', 'Steve', 'Smith', 'marcou', 'o', 'avanço', 'até', 'a', 'linha', 'de', 'jardas', 'Duas', 'jogadas', 'depois', 'David', 'Tyree', 'pegou', 'um', 'passe', 'de', 'cinco', 'jardas', 'na', 'end', 'zone', 'para', 'anotar', 'o', 'touchdown', 'e', 'virar', 'o', 'jogo', 'Na', 'hora', 'da', 'decisão', 'o', 'ataque', 'dos', 'Patriots', 'voltou', 'a', 'funcionar', 'Com', 'uma', 'série', 'de', 'passes', 'curtos', 'e', 'variados', 'Brady', 'achou', 'Wes', 'Welker', 'Randy', 'Moss', 'e', 'Kevin', 'Faulk', 'seguidas', 'vezes', 'até', 'chegar', 'à', 'red', 'zone', 'A', 'do', 'fim', 'o', 'quarterback', 'conectou', 'mais', 'uma', 'vez', 'com', 'Moss', 'que', 'se', 'desmarcou', 'e', 'ficou', 'livre', 'na', 'lateral', 'direita', 'da', 'end', 'zone', 'Quando', 'os', 'fãs', 'de', 'New', 'England', 'já', 'comemoravam', 'a', 'vitória', 'o', 'inesperado', 'aconteceu', 'Em', 'uma', 'jogada', 'incrível', 'Eli', 'Manning', 'se', 'soltou', 'de', 'dois', 'marcadores', 'que', 'o', 'seguravam', 'pela', 'camisa', 'e', 'na', 'corrida', 'lançou', 'para', 'Amani', 'Toomer', 'O', 'wide', 'receiver', 'bem', 'marcado', 'saltou', 'e', 'conseguiu', 'a', 'fazer', 'recepção', 'para', 'um', 'avanço', 'de', 'jardas', 'deixando', 'os', 'Giants', 'na', 'linha', 'de', 'de', 'New', 'England', 'Quatro', 'jogadas', 'depois', 'a', 'segundos', 'do', 'fim', 'Manning', 'achou', 'Plaxico', 'Burress', 'na', 'end', 'zone', 'para', 'conseguir', 'o', 'touchdown', 'do', 'título'] \n",
            "Digit Tokens: ['39', '17', '14', '17', '32', '43', '17', '38', '14', '23', '25', '39', '22', '50', '31', '45', '35', '12', '32', '24', '39'] \n",
            "Punct Tokens: ['-', '-', '-', ',', ',', ',', '.', ',', ',', ',', '.', ',', ',', '.', ',', '.', ',', ',', ',', '.', ',', '.', ',', '.', ',', ',', '.', ',', '.', ',', ',', '.', ',', ',', '(', ')', ',', '.', '.', '.', ',', '.', ',', '.', ',', '.', ',', ',', '.', '.', ',', '.', '.', ',', ',', ',', '.', ',', ',', ',', '.', ',', '.', ',', ',', ',', '.', ',', '.', ',', '.', ',', ',', '.', ',', '.', '.', ',', ',', ',', '.', ',', ',', '.', ',', '.', ',', '.', ',', ',', '.', ',', ',', '.', ',', '.', ',', ',', ',', '.', ',', ',', ',', '.', ',', ',', '.'] \n"
          ]
        }
      ]
    },
    {
      "cell_type": "markdown",
      "metadata": {
        "id": "GhyxDky59k9m"
      },
      "source": [
        "**Lemmatização: *.lemma_***"
      ]
    },
    {
      "cell_type": "code",
      "metadata": {
        "id": "DFlpqcyHOt-5"
      },
      "source": [
        "lemmas = [token.lemma_ for token in doc if token.pos_ == 'VERB']\n",
        "lemmas"
      ],
      "execution_count": null,
      "outputs": []
    },
    {
      "cell_type": "markdown",
      "metadata": {
        "id": "lp7NrAUw9tWl"
      },
      "source": [
        "**Etiquetas morfosintáticas: *.pos_***"
      ]
    },
    {
      "cell_type": "code",
      "metadata": {
        "id": "FJ6n-uiFP2DR"
      },
      "source": [
        "pos = [(token.orth_, token.pos_) for token in doc]\n",
        "pos"
      ],
      "execution_count": null,
      "outputs": []
    },
    {
      "cell_type": "markdown",
      "metadata": {
        "id": "SyQrAvKo92a3"
      },
      "source": [
        "**Análise morfosintática: *.morph***"
      ]
    },
    {
      "cell_type": "code",
      "metadata": {
        "id": "Zq_mdqZyQW-f"
      },
      "source": [
        "morfologicas = [(token.orth_, token.morph) for token in doc]\n",
        "morfologicas"
      ],
      "execution_count": null,
      "outputs": []
    },
    {
      "cell_type": "markdown",
      "metadata": {
        "id": "Cy719af698_l"
      },
      "source": [
        "**Reconhecimento de Entidades Nomeadas**"
      ]
    },
    {
      "cell_type": "code",
      "metadata": {
        "id": "YJVbQJL8SKr1"
      },
      "source": [
        "entidades_nomeadas = list(doc.ents)\n",
        "print(entidades_nomeadas)\n",
        "\n",
        "detalhes_entidades = [(entidade, entidade.label_) for entidade in doc.ents]\n",
        "detalhes_entidades"
      ],
      "execution_count": null,
      "outputs": []
    },
    {
      "cell_type": "markdown",
      "metadata": {
        "id": "uUVfKsRe-BfW"
      },
      "source": [
        "**Vamos visualizar as entidades!**"
      ]
    },
    {
      "cell_type": "code",
      "metadata": {
        "id": "SNzLf69UUTgr"
      },
      "source": [
        "html = spacy.displacy.render(doc, style=\"ent\")\n",
        "output_path = open('entidades_nomadas.html', 'w', encoding=\"utf-8\")\n",
        "output_path.write(html)\n",
        "output_path.close()"
      ],
      "execution_count": 24,
      "outputs": []
    },
    {
      "cell_type": "markdown",
      "metadata": {
        "id": "p9K86DrX-FiW"
      },
      "source": [
        "**Análise sintática de dependências**"
      ]
    },
    {
      "cell_type": "code",
      "metadata": {
        "colab": {
          "base_uri": "https://localhost:8080/"
        },
        "id": "LHbJhaafVISC",
        "outputId": "fc80fc9e-560a-4dd3-cbed-2b768adea881"
      },
      "source": [
        "sintaxe = [(token.orth_, token.dep_) for token in doc]\n",
        "print(sintaxe)"
      ],
      "execution_count": 25,
      "outputs": [
        {
          "output_type": "stream",
          "name": "stdout",
          "text": [
            "[(' ', 'ROOT'), ('Giants', 'nsubj'), ('batem', 'ROOT'), ('os', 'det'), ('Patriots', 'obj'), ('no', 'case'), ('Super', 'obl'), ('Bowl', 'flat:name'), ('XLII', 'flat:name'), ('\\n', 'dep'), ('Azarões', 'flat:name'), ('acabam', 'conj'), ('com', 'case'), ('a', 'det'), ('invencibilidade', 'obl'), ('de', 'case'), ('New', 'nmod'), ('England', 'flat:name'), ('e', 'cc'), ('ficam', 'conj'), ('com', 'case'), ('o', 'det'), ('título', 'obl'), ('da', 'case'), ('temporada', 'nmod'), ('\\n', 'aux:pass'), ('04/02/2008', 'obl'), ('-', 'punct'), ('01h07', 'obl'), ('m', 'obj'), ('-', 'punct'), ('Atualizado', 'acl'), ('em', 'case'), ('04/02/2008', 'obl'), ('-', 'punct'), ('09h49', 'nsubj'), ('m', 'punct'), ('\\n\\n', 'parataxis'), ('Com', 'case'), ('um', 'det'), ('passe', 'nmod'), ('de', 'case'), ('Eli', 'nmod'), ('Manning', 'flat:name'), ('para', 'case'), ('Plaxico', 'nmod'), ('Burress', 'flat:name'), ('a', 'case'), ('39', 'nummod'), ('segundos', 'nmod'), ('do', 'case'), ('fim', 'nmod'), (',', 'punct'), ('o', 'det'), ('New', 'nsubj'), ('York', 'flat:name'), ('Giants', 'flat:name'), ('anotou', 'ROOT'), ('o', 'det'), ('touchdown', 'obj'), ('decisivo', 'amod'), ('e', 'cc'), ('derrubou', 'conj'), ('o', 'det'), ('favorito', 'obj'), ('New', 'appos'), ('England', 'flat:name'), ('Patriots', 'flat:name'), ('por', 'case'), ('17', 'obl'), ('a', 'case'), ('14', 'nmod'), ('neste', 'case'), ('domingo', 'nmod'), (',', 'punct'), ('em', 'case'), ('Glendale', 'obl'), (',', 'punct'), ('no', 'case'), ('Super', 'obl'), ('Bowl', 'flat:name'), ('XLII', 'flat:name'), ('.', 'punct'), ('O', 'det'), ('resultado', 'nsubj'), (',', 'punct'), ('uma', 'appos'), ('das', 'case'), ('maiores', 'amod'), ('zebras', 'nmod'), ('da', 'case'), ('história', 'nmod'), ('do', 'case'), ('Super', 'nmod'), ('Bowl', 'flat:name'), (',', 'punct'), ('acabou', 'ROOT'), ('com', 'case'), ('a', 'det'), ('temporada', 'obl'), ('perfeita', 'amod'), ('de', 'case'), ('Tom', 'nmod'), ('Brady', 'flat:name'), ('e', 'cc'), ('companhia', 'conj'), (',', 'punct'), ('que', 'nsubj'), ('esperavam', 'acl:relcl'), ('fazer', 'xcomp'), ('história', 'obj'), ('ao', 'mark'), ('levantar', 'advcl'), ('o', 'det'), ('troféu', 'obj'), ('da', 'case'), ('NFL', 'nmod'), ('sem', 'mark'), ('sofrer', 'advcl'), ('uma', 'det'), ('derrota', 'obj'), ('no', 'case'), ('ano', 'nmod'), ('.', 'punct'), ('\\n\\n', 'advmod'), ('A', 'det'), ('vitória', 'nsubj'), ('dos', 'case'), ('Giants', 'nmod'), (',', 'punct'), ('porém', 'cc'), (',', 'punct'), ('também', 'advmod'), ('ficará', 'ROOT'), ('para', 'case'), ('a', 'det'), ('história', 'obl'), ('.', 'punct'), ('Pela', 'obl'), ('primeira', 'case'), ('vez', 'nmod'), (',', 'punct'), ('irmãos', 'nsubj'), ('quarterbacks', 'appos'), ('triunfam', 'ROOT'), ('no', 'case'), ('Super', 'obl'), ('Bowl', 'flat:name'), ('em', 'case'), ('temporadas', 'obl'), ('consecutivas', 'amod'), ('.', 'punct'), ('No', 'case'), ('ano', 'obl'), ('passado', 'amod'), (',', 'punct'), ('Peyton', 'nsubj'), ('Manning', 'flat:name'), (',', 'punct'), ('irmão', 'appos'), ('de', 'case'), ('Eli', 'nmod'), (',', 'punct'), ('chegou', 'ROOT'), ('ao', 'case'), ('título', 'obl'), ('máximo', 'amod'), ('da', 'case'), ('NFL', 'nmod'), ('pelo', 'case'), ('Indianapolis', 'nmod'), ('Colts', 'flat:name'), ('.', 'punct'), ('\\n\\n', 'ROOT'), ('A', 'det'), ('partida', 'nsubj'), ('\\n\\n', 'advmod'), ('Os', 'det'), ('Giants', 'nsubj'), ('começaram', 'ROOT'), ('com', 'case'), ('a', 'det'), ('posse', 'obl'), ('de', 'case'), ('bola', 'nmod'), (',', 'punct'), ('e', 'cc'), ('mostraram', 'conj'), ('logo', 'advmod'), ('que', 'mark'), ('iriam', 'aux'), ('alongar', 'ccomp'), ('ao', 'case'), ('máximo', 'obl'), ('suas', 'det'), ('posses', 'obj'), ('de', 'case'), ('bola', 'nmod'), ('.', 'punct'), ('Misturando', 'advcl'), ('corridas', 'obj'), ('com', 'case'), ('Brandon', 'nmod'), ('Jacobs', 'flat:name'), ('e', 'cc'), ('passes', 'conj'), ('curtos', 'amod'), (',', 'punct'), ('o', 'det'), ('time', 'nsubj'), ('de', 'case'), ('Nova', 'nmod'), ('York', 'flat:name'), ('chegou', 'ROOT'), ('à', 'case'), ('red', 'amod'), ('zone', 'obl'), ('logo', 'advmod'), ('na', 'case'), ('primeira', 'amod'), ('campanha', 'obl'), ('.', 'punct'), ('O', 'det'), ('avanço', 'nsubj'), (',', 'punct'), ('no', 'cc'), ('entanto', 'fixed'), (',', 'punct'), ('parou', 'ROOT'), ('na', 'case'), ('linha', 'obl'), ('de', 'case'), ('17', 'nummod'), ('jardas', 'nmod'), ('e', 'cc'), ('Lawrence', 'conj'), ('Tynes', 'flat:name'), ('converteu', 'conj'), ('o', 'det'), ('field', 'obj'), ('goal', 'flat:name'), ('de', 'case'), ('32', 'nummod'), ('jardas', 'nmod'), ('para', 'mark'), ('abrir', 'advcl'), ('o', 'det'), ('placar', 'obj'), ('.', 'punct'), ('\\n\\n', 'advmod'), ('Eli', 'nsubj'), ('Manning', 'flat:name'), ('e', 'cc'), ('companhia', 'conj'), ('ficaram', 'ROOT'), ('9m54s', 'obj'), ('com', 'case'), ('a', 'det'), ('bola', 'nmod'), (',', 'punct'), ('mas', 'cc'), ('o', 'det'), ('ataque', 'nsubj'), ('dos', 'case'), ('Patriots', 'nmod'), ('não', 'advmod'), ('entrou', 'conj'), ('em', 'case'), ('campo', 'obl'), ('frio', 'amod'), ('.', 'punct'), ('Logo', 'advmod'), ('no', 'case'), ('retorno', 'obl'), ('do', 'case'), ('kickoff', 'nmod'), (',', 'punct'), ('o', 'det'), ('running', 'ROOT'), ('back', 'amod'), ('Laurence', 'nsubj'), ('Maroney', 'flat:name'), ('avançou', 'ROOT'), ('43', 'nummod'), ('jardas', 'obj'), (',', 'punct'), ('deixando', 'advcl'), ('Tom', 'obj'), ('Brady', 'flat:name'), ('em', 'case'), ('boa', 'amod'), ('posição', 'obl'), ('.', 'punct'), ('Com', 'case'), ('passes', 'obl'), ('curtos', 'amod'), (',', 'punct'), ('os', 'det'), ('Patriots', 'nsubj'), ('chegaram', 'ROOT'), ('à', 'case'), ('linha', 'obl'), ('de', 'case'), ('17', 'nummod'), ('jardas', 'nmod'), ('e', 'cc'), (',', 'punct'), ('graças', 'case'), ('a', 'det'), ('uma', 'det'), ('penalidade', 'obl'), ('(', 'punct'), ('interferência', 'appos'), ('de', 'case'), ('passe', 'nmod'), (')', 'punct'), ('do', 'case'), ('linebacker', 'nmod'), ('Antonio', 'appos'), ('Pierce', 'flat:name'), (',', 'punct'), ('alcançaram', 'conj'), ('a', 'det'), ('linha', 'obj'), ('de', 'case'), ('uma', 'det'), ('jarda', 'nmod'), ('.', 'punct'), ('Maroney', 'nsubj'), ('avançou', 'ROOT'), ('pelo', 'case'), ('chão', 'obl'), ('e', 'cc'), ('anotou', 'conj'), ('o', 'det'), ('primeiro', 'amod'), ('touchdown', 'obj'), ('do', 'case'), ('jogo', 'nmod'), ('.', 'punct'), ('\\n\\n', 'ROOT'), ('Os', 'det'), ('Giants', 'nsubj'), ('pareciam', 'ROOT'), ('rumo', 'advmod'), ('à', 'case'), ('virada', 'obl'), ('na', 'case'), ('campanha', 'nmod'), ('seguinte', 'amod'), ('.', 'punct'), ('Manning', 'nsubj'), ('achou', 'ROOT'), ('Amani', 'obj'), ('Toomer', 'flat:name'), ('para', 'case'), ('um', 'det'), ('avanço', 'obl'), ('de', 'case'), ('38', 'nummod'), ('jardas', 'nmod'), (',', 'punct'), ('e', 'cc'), ('o', 'det'), ('time', 'conj'), ('de', 'case'), ('Nova', 'nmod'), ('York', 'flat:name'), ('entrou', 'conj'), ('novamente', 'advmod'), ('na', 'case'), ('red', 'amod'), ('zone', 'obl'), ('.', 'punct'), ('Com', 'case'), ('a', 'det'), ('bola', 'obl'), ('na', 'case'), ('linha', 'nmod'), ('de', 'case'), ('14', 'nummod'), ('jardas', 'nmod'), ('dos', 'case'), ('Patriots', 'nmod'), (',', 'punct'), ('os', 'det'), ('Giants', 'nsubj'), ('sofreram', 'ROOT'), ('um', 'det'), ('revés', 'obj'), ('.', 'punct'), ('Manning', 'nsubj'), ('passou', 'ROOT'), ('para', 'case'), ('Steve', 'obl'), ('Smith', 'flat:name'), (',', 'punct'), ('que', 'nsubj'), ('soltou', 'acl:relcl'), ('a', 'det'), ('bola', 'obj'), ('.', 'punct'), ('Ellis', 'nsubj'), ('Hobbs', 'flat:name'), ('aproveitou', 'ROOT'), (',', 'punct'), ('tomou', 'conj'), ('a', 'det'), ('posse', 'obj'), ('para', 'case'), ('os', 'det'), ('Patriots', 'nmod'), (',', 'punct'), ('e', 'cc'), ('avançou', 'conj'), ('23', 'nummod'), ('jardas', 'obj'), ('.', 'punct'), ('\\n\\n', 'advmod'), ('A', 'det'), ('defesa', 'nsubj'), ('de', 'case'), ('Nova', 'nmod'), ('York', 'flat:name'), ('manteve', 'ROOT'), ('o', 'det'), ('jogo', 'obj'), ('equilibrado', 'amod'), ('.', 'punct'), ('Com', 'case'), ('dois', 'nummod'), ('sacks', 'obl'), ('seguidos', 'acl'), (',', 'punct'), ('os', 'det'), ('Giants', 'nsubj'), ('forçaram', 'ROOT'), ('o', 'det'), ('punt', 'obj'), ('e', 'cc'), ('recuperaram', 'conj'), ('a', 'det'), ('bola', 'obj'), ('.', 'punct'), ('Mas', 'cc'), ('a', 'det'), ('campanha', 'nsubj'), ('seguinte', 'amod'), ('provou', 'ROOT'), ('ser', 'cop'), ('outra', 'det'), ('decepção', 'xcomp'), ('para', 'case'), ('Nova', 'nmod'), ('York', 'flat:name'), ('.', 'punct'), ('O', 'det'), ('time', 'nsubj'), ('chegou', 'ROOT'), ('à', 'case'), ('linha', 'obl'), ('de', 'case'), ('25', 'nummod'), ('jardas', 'nmod'), (',', 'punct'), ('mas', 'cc'), ('Manning', 'nsubj'), ('sofreu', 'conj'), ('um', 'det'), ('sack', 'obj'), ('e', 'cc'), ('cometeu', 'conj'), ('um', 'det'), ('fumble', 'obj'), (',', 'punct'), ('e', 'cc'), ('o', 'det'), ('ataque', 'nsubj'), ('voltou', 'conj'), ('para', 'case'), ('a', 'det'), ('linha', 'obl'), ('de', 'case'), ('39', 'nummod'), ('jardas', 'nmod'), (',', 'punct'), ('não', 'advmod'), ('conseguindo', 'advcl'), ('pontuar', 'xcomp'), ('mais', 'obl'), ('uma', 'case'), ('vez', 'obl'), ('.', 'punct'), ('\\n\\n', 'ROOT'), ('Os', 'det'), ('Patriots', 'nsubj'), ('tiveram', 'ROOT'), ('uma', 'det'), ('última', 'amod'), ('chance', 'obj'), ('de', 'mark'), ('marcar', 'acl'), ('antes', 'advmod'), ('do', 'case'), ('intervalo', 'obl'), (',', 'punct'), ('mas', 'cc'), (',', 'punct'), ('a', 'case'), ('22', 'nummod'), ('segundos', 'obl'), ('do', 'case'), ('fim', 'nmod'), ('do', 'case'), ('segundo', 'amod'), ('período', 'nmod'), (',', 'punct'), ('Brady', 'nsubj'), ('foi', 'aux:pass'), ('novamente', 'advmod'), ('sacado', 'conj'), ('.', 'punct'), ('Desta', 'case'), ('vez', 'obl'), (',', 'punct'), ('ele', 'nsubj'), ('cometeu', 'ROOT'), ('o', 'det'), ('fumble', 'obj'), ('e', 'cc'), ('os', 'det'), ('Giants', 'nsubj'), ('tomaram', 'conj'), ('a', 'det'), ('posse', 'obj'), ('de', 'case'), ('bola', 'nmod'), ('.', 'punct'), ('Manning', 'nsubj'), ('tentou', 'ROOT'), ('um', 'det'), ('passe', 'obj'), ('longo', 'amod'), (',', 'punct'), ('de', 'case'), ('50', 'nummod'), ('jardas', 'obl'), (',', 'punct'), ('nos', 'case'), ('últimos', 'amod'), ('segundos', 'obl'), (',', 'punct'), ('mas', 'cc'), ('não', 'advmod'), ('teve', 'conj'), ('sucesso', 'obj'), ('.', 'punct'), ('\\n\\n', 'advmod'), ('O', 'det'), ('jogo', 'nsubj'), ('continuou', 'ROOT'), ('amarrado', 'xcomp'), ('no', 'case'), ('terceiro', 'amod'), ('quarto', 'obl'), (',', 'punct'), ('com', 'case'), ('as', 'det'), ('defesas', 'obl'), ('levando', 'acl'), ('a', 'det'), ('melhor', 'obj'), ('sobre', 'case'), ('os', 'det'), ('ataques', 'obl'), ('.', 'punct'), ('A', 'det'), ('única', 'amod'), ('chance', 'nsubj'), ('de', 'mark'), ('pontuar', 'acl'), ('do', 'case'), ('período', 'obl'), ('foi', 'cop'), ('dos', 'case'), ('Patriots', 'ROOT'), (',', 'punct'), ('que', 'nsubj'), ('chegaram', 'acl:relcl'), ('à', 'case'), ('linha', 'obl'), ('de', 'case'), ('31', 'nummod'), ('jardas', 'nmod'), ('dos', 'case'), ('Giants', 'nmod'), ('.', 'punct'), ('O', 'det'), ('técnico', 'nsubj'), ('Bill', 'appos'), ('Bellichick', 'flat:name'), (',', 'punct'), ('porém', 'cc'), (',', 'punct'), ('optou', 'ROOT'), ('por', 'case'), ('uma', 'det'), ('quarta', 'amod'), ('descida', 'obl'), ('em', 'case'), ('vez', 'obl'), ('de', 'case'), ('um', 'det'), ('field', 'obj'), ('goal', 'amod'), ('.', 'punct'), ('Brady', 'nsubj'), ('tentou', 'ROOT'), ('um', 'det'), ('passe', 'obj'), ('para', 'case'), ('Jabar', 'obl'), ('Gaffney', 'flat:name'), (',', 'punct'), ('mas', 'cc'), ('não', 'advmod'), ('conseguiu', 'conj'), ('completar', 'xcomp'), ('.', 'punct'), ('\\n\\n', 'advmod'), ('O', 'det'), ('último', 'amod'), ('período', 'nsubj'), ('começou', 'ROOT'), ('arrasador', 'xcomp'), ('para', 'case'), ('os', 'det'), ('Giants', 'obl'), ('.', 'punct'), ('na', 'case'), ('primeira', 'amod'), ('jogada', 'obl'), (',', 'punct'), ('Manning', 'nsubj'), ('achou', 'ROOT'), ('o', 'det'), ('tight', 'obj'), ('end', 'flat:name'), ('Kevin', 'appos'), ('Boss', 'flat:name'), (',', 'punct'), ('para', 'case'), ('um', 'det'), ('incrível', 'amod'), ('avanço', 'obl'), ('de', 'case'), ('45', 'nummod'), ('jardas', 'nmod'), (',', 'punct'), ('que', 'nsubj'), ('deixou', 'acl:relcl'), ('o', 'det'), ('time', 'obj'), ('na', 'case'), ('linha', 'obl'), ('de', 'case'), ('35', 'nmod'), ('dos', 'case'), ('Patriots', 'nmod'), ('.', 'punct'), ('Outro', 'det'), ('lançamento', 'nsubj'), (',', 'punct'), ('desta', 'case'), ('vez', 'nmod'), ('para', 'case'), ('Steve', 'nmod'), ('Smith', 'flat:name'), (',', 'punct'), ('marcou', 'ROOT'), ('o', 'det'), ('avanço', 'obj'), ('até', 'case'), ('a', 'det'), ('linha', 'obl'), ('de', 'case'), ('12', 'nummod'), ('jardas', 'nmod'), ('.', 'punct'), ('Duas', 'nummod'), ('jogadas', 'obl'), ('depois', 'advmod'), (',', 'punct'), ('David', 'nsubj'), ('Tyree', 'flat:name'), ('pegou', 'ROOT'), ('um', 'det'), ('passe', 'obj'), ('de', 'case'), ('cinco', 'nummod'), ('jardas', 'nmod'), ('na', 'case'), ('end', 'nmod'), ('zone', 'flat:name'), ('para', 'mark'), ('anotar', 'advcl'), ('o', 'det'), ('touchdown', 'obj'), ('e', 'cc'), ('virar', 'conj'), ('o', 'det'), ('jogo', 'obj'), ('.', 'punct'), ('\\n\\n', 'advmod'), ('Na', 'case'), ('hora', 'obl'), ('da', 'case'), ('decisão', 'nmod'), (',', 'punct'), ('o', 'det'), ('ataque', 'nsubj'), ('dos', 'case'), ('Patriots', 'nmod'), ('voltou', 'ROOT'), ('a', 'mark'), ('funcionar', 'xcomp'), ('.', 'punct'), ('Com', 'case'), ('uma', 'det'), ('série', 'obl'), ('de', 'case'), ('passes', 'nmod'), ('curtos', 'amod'), ('e', 'cc'), ('variados', 'conj'), (',', 'punct'), ('Brady', 'nsubj'), ('achou', 'ROOT'), ('Wes', 'obj'), ('Welker', 'flat:name'), (',', 'punct'), ('Randy', 'dep'), ('Moss', 'flat:name'), ('e', 'cc'), ('Kevin', 'conj'), ('Faulk', 'flat:name'), ('seguidas', 'xcomp'), ('vezes', 'obj'), ('até', 'mark'), ('chegar', 'advcl'), ('à', 'case'), ('red', 'amod'), ('zone', 'obl'), ('.', 'punct'), ('A', 'case'), ('2m45s', 'obl'), ('do', 'case'), ('fim', 'nmod'), (',', 'punct'), ('o', 'det'), ('quarterback', 'nsubj'), ('conectou', 'ROOT'), ('mais', 'advmod'), ('uma', 'case'), ('vez', 'obl'), ('com', 'case'), ('Moss', 'obl'), (',', 'punct'), ('que', 'nsubj'), ('se', 'expl'), ('desmarcou', 'acl:relcl'), ('e', 'cc'), ('ficou', 'conj'), ('livre', 'xcomp'), ('na', 'case'), ('lateral', 'obl'), ('direita', 'amod'), ('da', 'case'), ('end', 'nmod'), ('zone', 'flat:name'), ('.', 'punct'), ('\\n\\n', 'advmod'), ('Quando', 'mark'), ('os', 'det'), ('fãs', 'nsubj'), ('de', 'case'), ('New', 'nmod'), ('England', 'flat:name'), ('já', 'advmod'), ('comemoravam', 'advcl'), ('a', 'det'), ('vitória', 'obj'), (',', 'punct'), ('o', 'det'), ('inesperado', 'nsubj'), ('aconteceu', 'ROOT'), ('.', 'punct'), ('Em', 'case'), ('uma', 'det'), ('jogada', 'obl'), ('incrível', 'amod'), (',', 'punct'), ('Eli', 'nsubj'), ('Manning', 'flat:name'), ('se', 'expl'), ('soltou', 'ROOT'), ('de', 'case'), ('dois', 'nummod'), ('marcadores', 'obj'), ('que', 'nsubj'), ('o', 'obj'), ('seguravam', 'acl:relcl'), ('pela', 'case'), ('camisa', 'obl'), ('e', 'cc'), (',', 'punct'), ('na', 'case'), ('corrida', 'obl'), (',', 'punct'), ('lançou', 'conj'), ('para', 'case'), ('Amani', 'obl'), ('Toomer', 'flat:name'), ('.', 'punct'), ('O', 'det'), ('wide', 'nsubj'), ('receiver', 'flat:name'), (',', 'punct'), ('bem', 'advmod'), ('marcado', 'acl'), (',', 'punct'), ('saltou', 'ROOT'), ('e', 'cc'), ('conseguiu', 'conj'), ('a', 'mark'), ('fazer', 'xcomp'), ('recepção', 'obj'), ('para', 'case'), ('um', 'det'), ('avanço', 'nmod'), ('de', 'case'), ('32', 'nummod'), ('jardas', 'nmod'), (',', 'punct'), ('deixando', 'advcl'), ('os', 'det'), ('Giants', 'obj'), ('na', 'case'), ('linha', 'obl'), ('de', 'case'), ('24', 'nmod'), ('de', 'case'), ('New', 'nmod'), ('England', 'flat:name'), ('.', 'punct'), ('\\n\\n', 'advmod'), ('Quatro', 'nummod'), ('jogadas', 'obl'), ('depois', 'advmod'), (',', 'punct'), ('a', 'case'), ('39', 'nummod'), ('segundos', 'obl'), ('do', 'case'), ('fim', 'nmod'), (',', 'punct'), ('Manning', 'nsubj'), ('achou', 'ROOT'), ('Plaxico', 'obj'), ('Burress', 'flat:name'), ('na', 'case'), ('end', 'obl'), ('zone', 'flat:name'), ('para', 'mark'), ('conseguir', 'advcl'), ('o', 'det'), ('touchdown', 'obj'), ('do', 'case'), ('título', 'nmod'), ('.', 'punct')]\n"
          ]
        }
      ]
    },
    {
      "cell_type": "markdown",
      "metadata": {
        "id": "pP7o939i-IWt"
      },
      "source": [
        "**Vamos visualizar a árvore de dependências**"
      ]
    },
    {
      "cell_type": "code",
      "metadata": {
        "id": "1QvmBR5MVYg3"
      },
      "source": [
        "visualizar_sintaxe = spacy.displacy.render(doc, style='dep')\n",
        "output_path = open('analise_dependencia.svg', 'w', encoding=\"utf-8\")\n",
        "output_path.write(visualizar_sintaxe)\n",
        "output_path.close()"
      ],
      "execution_count": 26,
      "outputs": []
    }
  ]
}